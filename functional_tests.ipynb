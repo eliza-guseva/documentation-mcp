{
 "cells": [
  {
   "cell_type": "code",
   "execution_count": 4,
   "metadata": {},
   "outputs": [
    {
     "name": "stdout",
     "output_type": "stream",
     "text": [
      "The autoreload extension is already loaded. To reload it, use:\n",
      "  %reload_ext autoreload\n"
     ]
    }
   ],
   "source": [
    "%load_ext autoreload\n",
    "%autoreload 2\n",
    "\n",
    "from pathlib import Path\n",
    "\n"
   ]
  },
  {
   "cell_type": "code",
   "execution_count": 5,
   "metadata": {},
   "outputs": [
    {
     "name": "stdout",
     "output_type": "stream",
     "text": [
      "/Users/eliza/search-pydantic-ai\n"
     ]
    }
   ],
   "source": [
    "# checking where we are\n",
    "!pwd"
   ]
  },
  {
   "cell_type": "markdown",
   "metadata": {},
   "source": [
    "## Testing logging"
   ]
  },
  {
   "cell_type": "code",
   "execution_count": 6,
   "metadata": {},
   "outputs": [
    {
     "name": "stdout",
     "output_type": "stream",
     "text": [
      "2025-05-13 12:44:39,923 - __main__ - INFO - Starting the application...\n"
     ]
    }
   ],
   "source": [
    "from config.utils import setup_logging, get_logger\n",
    "\n",
    "setup_logging()\n",
    "logger = get_logger(__name__)\n",
    "logger.info(\"Starting the application...\")\n"
   ]
  },
  {
   "cell_type": "markdown",
   "metadata": {},
   "source": [
    "## Testing config"
   ]
  },
  {
   "cell_type": "code",
   "execution_count": 7,
   "metadata": {},
   "outputs": [
    {
     "name": "stdout",
     "output_type": "stream",
     "text": [
      "2025-05-13 12:44:49,883 - config.config - INFO - Attempting to load configuration from config.json\n",
      "2025-05-13 12:44:49,884 - config.config - INFO - Configuration loaded successfully.\n",
      "2025-05-13 12:44:49,885 - config.config - INFO - Configuration validated.\n"
     ]
    },
    {
     "data": {
      "text/plain": [
       "['https://ai.pydantic.dev/']"
      ]
     },
     "execution_count": 7,
     "metadata": {},
     "output_type": "execute_result"
    }
   ],
   "source": [
    "# testing config\n",
    "from config.config import ConfigManager\n",
    "\n",
    "config = ConfigManager()\n",
    "\n",
    "config.documentation_urls"
   ]
  },
  {
   "cell_type": "markdown",
   "metadata": {},
   "source": [
    "## Testing initial fetch"
   ]
  },
  {
   "cell_type": "code",
   "execution_count": 9,
   "metadata": {},
   "outputs": [
    {
     "name": "stdout",
     "output_type": "stream",
     "text": [
      "2025-05-13 13:05:11,949 - data_collection.collect_data - INFO - Loading configuration...\n",
      "2025-05-13 13:05:11,951 - config.config - INFO - Attempting to load configuration from config.json\n",
      "2025-05-13 13:05:11,952 - config.config - INFO - Configuration loaded successfully.\n",
      "2025-05-13 13:05:11,953 - config.config - INFO - Configuration validated.\n",
      "2025-05-13 13:05:11,954 - data_collection.collect_data - INFO - Configuration loaded. Log file set to: documentation.log\n",
      "2025-05-13 13:05:11,955 - data_collection.collect_data - INFO - Initialization complete. Starting data fetch.\n",
      "2025-05-13 13:05:11,957 - data_collection.fetcher - INFO - Documentation storage path: /Users/eliza/search-pydantic-ai/retrieved_data/documentation_raw\n",
      "2025-05-13 13:05:11,958 - data_collection.collect_data - INFO - Fetching 1 documentation sources\n",
      "2025-05-13 13:05:11,959 - data_collection.fetcher - INFO - Starting documentation fetch process for 1 URLs...\n",
      "2025-05-13 13:05:11,960 - data_collection.fetcher - INFO - Attempting to fetch documentation from: https://ai.pydantic.dev/ (max_depth=5)\n",
      "2025-05-13 13:05:45,624 - data_collection.fetcher - INFO - Successfully fetched 78 documents from https://ai.pydantic.dev/\n",
      "2025-05-13 13:05:45,661 - data_collection.fetcher - INFO - Attempted to save content of 78 documents to /Users/eliza/search-pydantic-ai/retrieved_data/documentation_raw/ai.pydantic.dev_index, successfully saved: 78\n",
      "2025-05-13 13:05:45,662 - data_collection.fetcher - INFO - Documentation fetch process finished. Fetched from 1 URLs, failed for 0.\n",
      "2025-05-13 13:05:45,663 - data_collection.collect_data - INFO - Documentation fetch process finished (placeholder).\n",
      "2025-05-13 13:05:45,664 - data_collection.collect_data - INFO - Initial data collection finished in 33.71 seconds.\n"
     ]
    }
   ],
   "source": [
    "from data_collection.collect_data import run_initial_fetch\n",
    "\n",
    "run_initial_fetch()"
   ]
  },
  {
   "cell_type": "code",
   "execution_count": null,
   "metadata": {},
   "outputs": [],
   "source": []
  }
 ],
 "metadata": {
  "kernelspec": {
   "display_name": "venv",
   "language": "python",
   "name": "python3"
  },
  "language_info": {
   "codemirror_mode": {
    "name": "ipython",
    "version": 3
   },
   "file_extension": ".py",
   "mimetype": "text/x-python",
   "name": "python",
   "nbconvert_exporter": "python",
   "pygments_lexer": "ipython3",
   "version": "3.12.1"
  }
 },
 "nbformat": 4,
 "nbformat_minor": 2
}
