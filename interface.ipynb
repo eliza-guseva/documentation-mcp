{
 "cells": [
  {
   "cell_type": "code",
   "execution_count": 1,
   "metadata": {},
   "outputs": [
    {
     "name": "stderr",
     "output_type": "stream",
     "text": [
      "/Users/eliza/search-pydantic-ai/venv/lib/python3.12/site-packages/tqdm/auto.py:21: TqdmWarning: IProgress not found. Please update jupyter and ipywidgets. See https://ipywidgets.readthedocs.io/en/stable/user_install.html\n",
      "  from .autonotebook import tqdm as notebook_tqdm\n"
     ]
    },
    {
     "name": "stdout",
     "output_type": "stream",
     "text": [
      "/Users/eliza/search-pydantic-ai\n"
     ]
    }
   ],
   "source": [
    "%load_ext autoreload\n",
    "%autoreload 2\n",
    "\n",
    "import logging\n",
    "import gradio as gr\n",
    "\n",
    "from agent.agents import (\n",
    "    create_multi_query_agent_executor, \n",
    "    create_one_action_agent_executor,\n",
    "    stream_agent_output,\n",
    "    StateCapture\n",
    ")\n",
    "from config.utils import setup_logging, get_logger\n",
    "from config.config import ConfigManager\n",
    "\n",
    "# checking where we are\n",
    "!pwd"
   ]
  },
  {
   "cell_type": "markdown",
   "metadata": {},
   "source": [
    "## Config and logging"
   ]
  },
  {
   "cell_type": "code",
   "execution_count": 6,
   "metadata": {},
   "outputs": [
    {
     "name": "stdout",
     "output_type": "stream",
     "text": [
      "2025-05-14 17:02:38,047 - __main__ - WARNING - Starting the application...\n",
      "2025-05-14 17:02:38,049 - __main__ - INFO - Starting the application...\n",
      "2025-05-14 17:02:38,050 - config.config - INFO - Attempting to load configuration from config.json\n",
      "2025-05-14 17:02:38,053 - config.config - INFO - Configuration loaded successfully.\n",
      "2025-05-14 17:02:38,055 - config.config - INFO - Configuration validated.\n",
      "['https://ai.pydantic.dev/']\n",
      "True\n"
     ]
    }
   ],
   "source": [
    "setup_logging(level=logging.INFO)\n",
    "logger = get_logger(__name__)\n",
    "logger.warning(\"Starting the application...\")\n",
    "logger.info(\"Starting the application...\")\n",
    "config = ConfigManager()\n",
    "\n",
    "print(config.documentation_urls)\n",
    "print(config.config['embed_with_openai'])"
   ]
  },
  {
   "cell_type": "markdown",
   "metadata": {},
   "source": [
    "## One action agent interface\n",
    "\n",
    "**Scroll below for the interactive interface**"
   ]
  },
  {
   "cell_type": "code",
   "execution_count": 11,
   "metadata": {},
   "outputs": [],
   "source": [
    "state_capture = StateCapture()\n",
    "agent_executor = create_one_action_agent_executor()"
   ]
  },
  {
   "cell_type": "code",
   "execution_count": 12,
   "metadata": {},
   "outputs": [
    {
     "name": "stderr",
     "output_type": "stream",
     "text": [
      "/var/folders/3n/7m69d59d44x4c5xxm3gwg9880000gn/T/ipykernel_93576/1855339524.py:2: UserWarning: You have not specified a value for the `type` parameter. Defaulting to the 'tuples' format for chatbot messages, but this is deprecated and will be removed in a future version of Gradio. Please set type='messages' instead, which uses openai-style dictionaries with 'role' and 'content' keys.\n",
      "  chatbot = gr.Chatbot(height=320)\n"
     ]
    },
    {
     "name": "stdout",
     "output_type": "stream",
     "text": [
      "* Running on local URL:  http://127.0.0.1:7862\n",
      "2025-05-14 17:08:54,389 - httpx - INFO - HTTP Request: GET http://127.0.0.1:7862/gradio_api/startup-events \"HTTP/1.1 200 OK\"\n",
      "2025-05-14 17:08:54,399 - httpx - INFO - HTTP Request: HEAD http://127.0.0.1:7862/ \"HTTP/1.1 200 OK\"\n",
      "* To create a public link, set `share=True` in `launch()`.\n"
     ]
    },
    {
     "data": {
      "text/html": [
       "<div><iframe src=\"http://127.0.0.1:7862/\" width=\"100%\" height=\"500\" allow=\"autoplay; camera; microphone; clipboard-read; clipboard-write;\" frameborder=\"0\" allowfullscreen></iframe></div>"
      ],
      "text/plain": [
       "<IPython.core.display.HTML object>"
      ]
     },
     "metadata": {},
     "output_type": "display_data"
    },
    {
     "data": {
      "text/plain": []
     },
     "execution_count": 12,
     "metadata": {},
     "output_type": "execute_result"
    },
    {
     "name": "stdout",
     "output_type": "stream",
     "text": [
      "2025-05-14 17:08:54,957 - httpx - INFO - HTTP Request: GET https://api.gradio.app/pkg-version \"HTTP/1.1 200 OK\"\n"
     ]
    }
   ],
   "source": [
    "with gr.Blocks() as demo:\n",
    "    chatbot = gr.Chatbot(height=320)\n",
    "    # Text input with stop button on right\n",
    "    with gr.Row():\n",
    "        with gr.Column(scale=20):\n",
    "            msg = gr.Textbox(label=\"Message\", placeholder=\"Ask something...\")\n",
    "            \n",
    "        with gr.Column(scale=1, min_width=40):\n",
    "            stop_btn = gr.Button(\"⏹️\", size=\"sm\", variant=\"stop\")\n",
    "    \n",
    "    # Buttons below the text input        \n",
    "    with gr.Row():\n",
    "        send_btn = gr.Button(\"Send\", size=\"md\", variant=\"primary\", scale=3)\n",
    "        clear = gr.Button(\"Clear\", size=\"md\", scale=1)\n",
    "    \n",
    "    def respond(message, chat_history):\n",
    "        # Add user message to chat history\n",
    "        chat_history.append((message, \"\"))\n",
    "        yield chat_history\n",
    "        \n",
    "        # Stream the agent's response\n",
    "        bot_message = \"\"\n",
    "        for chunk in stream_agent_output(agent_executor, message, state_capture):\n",
    "            bot_message += chunk\n",
    "            # Update just the last bot message\n",
    "            chat_history[-1] = (message, bot_message)\n",
    "            yield chat_history\n",
    "    \n",
    "    # Set up events with cancellation\n",
    "    msg_event = msg.submit(respond, [msg, chatbot], [chatbot])\n",
    "    send_event = send_btn.click(respond, [msg, chatbot], [chatbot])\n",
    "    \n",
    "    # Clear button\n",
    "    clear.click(lambda: None, None, chatbot, queue=False)\n",
    "    \n",
    "    # Stop button cancels both the message submit and send button events\n",
    "    stop_btn.click(fn=None, inputs=None, outputs=None, cancels=[msg_event, send_event])\n",
    "\n",
    "demo.launch(inline=True, share=False)"
   ]
  },
  {
   "cell_type": "markdown",
   "metadata": {},
   "source": [
    "## Multiquery and follow up agent interface\n",
    "**Scroll down for gradio interfaces**"
   ]
  },
  {
   "cell_type": "code",
   "execution_count": 13,
   "metadata": {},
   "outputs": [
    {
     "name": "stderr",
     "output_type": "stream",
     "text": [
      "/var/folders/3n/7m69d59d44x4c5xxm3gwg9880000gn/T/ipykernel_14339/1468504269.py:12: UserWarning: You have not specified a value for the `type` parameter. Defaulting to the 'tuples' format for chatbot messages, but this is deprecated and will be removed in a future version of Gradio. Please set type='messages' instead, which uses openai-style dictionaries with 'role' and 'content' keys.\n",
      "  chatbot = gr.Chatbot(height=320)\n"
     ]
    },
    {
     "name": "stdout",
     "output_type": "stream",
     "text": [
      "* Running on local URL:  http://127.0.0.1:7868\n",
      "* To create a public link, set `share=True` in `launch()`.\n"
     ]
    },
    {
     "data": {
      "text/html": [
       "<div><iframe src=\"http://127.0.0.1:7868/\" width=\"100%\" height=\"500\" allow=\"autoplay; camera; microphone; clipboard-read; clipboard-write;\" frameborder=\"0\" allowfullscreen></iframe></div>"
      ],
      "text/plain": [
       "<IPython.core.display.HTML object>"
      ]
     },
     "metadata": {},
     "output_type": "display_data"
    },
    {
     "data": {
      "text/plain": []
     },
     "execution_count": 13,
     "metadata": {},
     "output_type": "execute_result"
    }
   ],
   "source": [
    "import gradio as gr\n",
    "from agent.agents import (\n",
    "    create_multi_query_agent_executor, \n",
    "    stream_agent_output,\n",
    "    StateCapture\n",
    ")\n",
    "\n",
    "state_capture = StateCapture()\n",
    "agent_executor = create_multi_query_agent_executor()\n",
    "\n",
    "with gr.Blocks() as demo:\n",
    "    chatbot = gr.Chatbot(height=320)\n",
    "    # Text input with stop button on right\n",
    "    with gr.Row():\n",
    "        with gr.Column(scale=20):\n",
    "            msg = gr.Textbox(label=\"Message\", placeholder=\"Ask something...\")\n",
    "            \n",
    "        with gr.Column(scale=1, min_width=40):\n",
    "            stop_btn = gr.Button(\"⏹️\", size=\"sm\", variant=\"stop\")\n",
    "    \n",
    "    # Buttons below the text input        \n",
    "    with gr.Row():\n",
    "        send_btn = gr.Button(\"Send\", size=\"md\", variant=\"primary\", scale=3)\n",
    "        clear = gr.Button(\"Clear\", size=\"md\", scale=1)\n",
    "    \n",
    "    def respond(message, chat_history):\n",
    "        # Add user message to chat history\n",
    "        chat_history.append((message, \"\"))\n",
    "        yield chat_history\n",
    "        \n",
    "        # Message tracking variables\n",
    "        bot_message = \"\"\n",
    "        current_mode = \"normal\"  # Tracking if we're in a \"searching\" or \"normal\" mode\n",
    "        searching_complete = False  # Track if we've seen a searching message\n",
    "        \n",
    "        # Stream the agent's response\n",
    "        for chunk in stream_agent_output(agent_executor, message, state_capture):\n",
    "            # Detect message type transitions\n",
    "            if chunk.startswith(\"Searching:\"):\n",
    "                # We're in searching mode\n",
    "                if current_mode == \"normal\" and bot_message:\n",
    "                    # If we already had normal content, separate it\n",
    "                    bot_message += \"\\n\\n---\\n\\n\"\n",
    "                \n",
    "                current_mode = \"searching\"\n",
    "                searching_complete = True\n",
    "                bot_message += chunk\n",
    "                \n",
    "            else:\n",
    "                # We're in normal response mode\n",
    "                if current_mode == \"searching\" and searching_complete:\n",
    "                    # Transition from searching to normal - add separator\n",
    "                    bot_message += \"\\n\\n---\\n\\n\"\n",
    "                    current_mode = \"normal\"\n",
    "                    \n",
    "                # Add content to current message\n",
    "                bot_message += chunk\n",
    "                \n",
    "            # Update chat history with formatted message\n",
    "            chat_history[-1] = (message, bot_message)\n",
    "            yield chat_history\n",
    "\n",
    "    \n",
    "    # Set up events with cancellation\n",
    "    msg_event = msg.submit(respond, [msg, chatbot], [chatbot])\n",
    "    send_event = send_btn.click(respond, [msg, chatbot], [chatbot])\n",
    "    \n",
    "    # Clear button\n",
    "    clear.click(lambda: None, None, chatbot, queue=False)\n",
    "    \n",
    "    # Stop button cancels both the message submit and send button events\n",
    "    stop_btn.click(fn=None, inputs=None, outputs=None, cancels=[msg_event, send_event])\n",
    "\n",
    "demo.launch(inline=True, share=False)"
   ]
  },
  {
   "cell_type": "markdown",
   "metadata": {},
   "source": [
    "## Check evaluations"
   ]
  },
  {
   "cell_type": "code",
   "execution_count": 23,
   "metadata": {},
   "outputs": [],
   "source": [
    "from langsmith import Client\n",
    "import os\n",
    "from datetime import datetime, timedelta\n",
    "from dotenv import load_dotenv\n",
    "\n",
    "load_dotenv()\n",
    "\n",
    "client = Client(api_key=os.getenv(\"LANGSMITH_API_KEY\"))\n",
    "runs =client.list_runs(\n",
    "    project_name=os.getenv(\"LANGSMITH_PROJECT\"),\n",
    "    run_type=\"chain\",\n",
    "    start_time=datetime.now() - timedelta(days=1),\n",
    ")\n",
    "\n",
    "hallucination_scores = []\n",
    "runs_with_feedback = [run for run in runs if run.feedback_stats]\n",
    "for run in runs_with_feedback:\n",
    "    feedbacks = client.list_feedback(run_ids=[run.id])\n",
    "    hallucination_score = [feedback.score for feedback in feedbacks if feedback.key == \"hallucination_score\"]\n",
    "    hallucination_scores.append(hallucination_score)\n",
    "\n",
    "hallucination_scores = [score[0] for score in hallucination_scores if score]\n",
    "\n",
    "\n",
    "\n"
   ]
  },
  {
   "cell_type": "code",
   "execution_count": 25,
   "metadata": {},
   "outputs": [
    {
     "name": "stdout",
     "output_type": "stream",
     "text": [
      "Mean hallucination score: 0.08536585365853659\n",
      "Standard deviation of hallucination scores: 0.21815297341461365\n"
     ]
    }
   ],
   "source": [
    "from numpy import mean, std\n",
    "\n",
    "print(f\"Mean hallucination score: {mean(hallucination_scores)}\")\n",
    "print(f\"Standard deviation of hallucination scores: {std(hallucination_scores)}\")\n",
    "\n"
   ]
  },
  {
   "cell_type": "code",
   "execution_count": null,
   "metadata": {},
   "outputs": [],
   "source": []
  }
 ],
 "metadata": {
  "kernelspec": {
   "display_name": "venv",
   "language": "python",
   "name": "python3"
  },
  "language_info": {
   "codemirror_mode": {
    "name": "ipython",
    "version": 3
   },
   "file_extension": ".py",
   "mimetype": "text/x-python",
   "name": "python",
   "nbconvert_exporter": "python",
   "pygments_lexer": "ipython3",
   "version": "3.12.1"
  }
 },
 "nbformat": 4,
 "nbformat_minor": 2
}
