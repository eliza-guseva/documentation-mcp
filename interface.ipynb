{
 "cells": [
  {
   "cell_type": "code",
   "execution_count": 5,
   "metadata": {},
   "outputs": [
    {
     "name": "stdout",
     "output_type": "stream",
     "text": [
      "The autoreload extension is already loaded. To reload it, use:\n",
      "  %reload_ext autoreload\n",
      "/Users/eliza/search-pydantic-ai\n"
     ]
    }
   ],
   "source": [
    "%load_ext autoreload\n",
    "%autoreload 2\n",
    "\n",
    "import logging\n",
    "import gradio as gr\n",
    "\n",
    "from agent.nodes_and_tools import create_agent_executor, stream_agent_output\n",
    "from config.utils import setup_logging, get_logger\n",
    "from config.config import ConfigManager\n",
    "\n",
    "# checking where we are\n",
    "!pwd"
   ]
  },
  {
   "cell_type": "markdown",
   "metadata": {},
   "source": [
    "## Config and logging"
   ]
  },
  {
   "cell_type": "code",
   "execution_count": 6,
   "metadata": {},
   "outputs": [
    {
     "name": "stdout",
     "output_type": "stream",
     "text": [
      "2025-05-13 19:03:53,253 - __main__ - WARNING - Starting the application...\n",
      "['https://ai.pydantic.dev/']\n",
      "True\n"
     ]
    }
   ],
   "source": [
    "setup_logging(level=logging.WARNING)\n",
    "logger = get_logger(__name__)\n",
    "logger.warning(\"Starting the application...\")\n",
    "logger.info(\"Starting the application...\")\n",
    "config = ConfigManager()\n",
    "\n",
    "print(config.documentation_urls)\n",
    "print(config.config['embed_with_openai'])"
   ]
  },
  {
   "cell_type": "markdown",
   "metadata": {},
   "source": [
    "## Agent interface\n",
    "\n",
    "**Scroll below for the interactive interface**"
   ]
  },
  {
   "cell_type": "code",
   "execution_count": 7,
   "metadata": {},
   "outputs": [],
   "source": [
    "agent_executor = create_agent_executor()"
   ]
  },
  {
   "cell_type": "code",
   "execution_count": 12,
   "metadata": {},
   "outputs": [
    {
     "name": "stderr",
     "output_type": "stream",
     "text": [
      "/var/folders/3n/7m69d59d44x4c5xxm3gwg9880000gn/T/ipykernel_14339/2156224731.py:2: UserWarning: You have not specified a value for the `type` parameter. Defaulting to the 'tuples' format for chatbot messages, but this is deprecated and will be removed in a future version of Gradio. Please set type='messages' instead, which uses openai-style dictionaries with 'role' and 'content' keys.\n",
      "  chatbot = gr.Chatbot(height=320)\n"
     ]
    },
    {
     "name": "stdout",
     "output_type": "stream",
     "text": [
      "* Running on local URL:  http://127.0.0.1:7864\n",
      "* To create a public link, set `share=True` in `launch()`.\n"
     ]
    },
    {
     "data": {
      "text/html": [
       "<div><iframe src=\"http://127.0.0.1:7864/\" width=\"100%\" height=\"500\" allow=\"autoplay; camera; microphone; clipboard-read; clipboard-write;\" frameborder=\"0\" allowfullscreen></iframe></div>"
      ],
      "text/plain": [
       "<IPython.core.display.HTML object>"
      ]
     },
     "metadata": {},
     "output_type": "display_data"
    },
    {
     "data": {
      "text/plain": []
     },
     "execution_count": 12,
     "metadata": {},
     "output_type": "execute_result"
    },
    {
     "name": "stderr",
     "output_type": "stream",
     "text": [
      "/Users/eliza/search-pydantic-ai/venv/lib/python3.12/site-packages/networkx/readwrite/json_graph/node_link.py:287: FutureWarning: \n",
      "The default value will be changed to `edges=\"edges\" in NetworkX 3.6.\n",
      "\n",
      "To make this warning go away, explicitly set the edges kwarg, e.g.:\n",
      "\n",
      "  nx.node_link_graph(data, edges=\"links\") to preserve current behavior, or\n",
      "  nx.node_link_graph(data, edges=\"edges\") for forward compatibility.\n",
      "  warnings.warn(\n"
     ]
    }
   ],
   "source": [
    "with gr.Blocks() as demo:\n",
    "    chatbot = gr.Chatbot(height=320)\n",
    "    # Text input with stop button on right\n",
    "    with gr.Row():\n",
    "        with gr.Column(scale=20):\n",
    "            msg = gr.Textbox(label=\"Message\", placeholder=\"Ask something...\")\n",
    "            \n",
    "        with gr.Column(scale=1, min_width=40):\n",
    "            stop_btn = gr.Button(\"⏹️\", size=\"sm\", variant=\"stop\")\n",
    "    \n",
    "    # Buttons below the text input        \n",
    "    with gr.Row():\n",
    "        send_btn = gr.Button(\"Send\", size=\"md\", variant=\"primary\", scale=3)\n",
    "        clear = gr.Button(\"Clear\", size=\"md\", scale=1)\n",
    "    \n",
    "    def respond(message, chat_history):\n",
    "        # Add user message to chat history\n",
    "        chat_history.append((message, \"\"))\n",
    "        yield chat_history\n",
    "        \n",
    "        # Stream the agent's response\n",
    "        bot_message = \"\"\n",
    "        for chunk in stream_agent_output(agent_executor, message):\n",
    "            bot_message += chunk\n",
    "            # Update just the last bot message\n",
    "            chat_history[-1] = (message, bot_message)\n",
    "            yield chat_history\n",
    "    \n",
    "    # Set up events with cancellation\n",
    "    msg_event = msg.submit(respond, [msg, chatbot], [chatbot])\n",
    "    send_event = send_btn.click(respond, [msg, chatbot], [chatbot])\n",
    "    \n",
    "    # Clear button\n",
    "    clear.click(lambda: None, None, chatbot, queue=False)\n",
    "    \n",
    "    # Stop button cancels both the message submit and send button events\n",
    "    stop_btn.click(fn=None, inputs=None, outputs=None, cancels=[msg_event, send_event])\n",
    "\n",
    "demo.launch(inline=True, share=False)"
   ]
  },
  {
   "cell_type": "code",
   "execution_count": null,
   "metadata": {},
   "outputs": [],
   "source": []
  }
 ],
 "metadata": {
  "kernelspec": {
   "display_name": "venv",
   "language": "python",
   "name": "python3"
  },
  "language_info": {
   "codemirror_mode": {
    "name": "ipython",
    "version": 3
   },
   "file_extension": ".py",
   "mimetype": "text/x-python",
   "name": "python",
   "nbconvert_exporter": "python",
   "pygments_lexer": "ipython3",
   "version": "3.12.1"
  }
 },
 "nbformat": 4,
 "nbformat_minor": 2
}
